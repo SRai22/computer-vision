{
  "nbformat": 4,
  "nbformat_minor": 0,
  "metadata": {
    "colab": {
      "name": "2D_Image_Transformation.ipynb",
      "provenance": [],
      "collapsed_sections": [],
      "authorship_tag": "ABX9TyMFMP9+mMuK4op/GiAYopXn",
      "include_colab_link": true
    },
    "kernelspec": {
      "name": "python3",
      "display_name": "Python 3"
    },
    "language_info": {
      "name": "python"
    }
  },
  "cells": [
    {
      "cell_type": "markdown",
      "metadata": {
        "id": "view-in-github",
        "colab_type": "text"
      },
      "source": [
        "<a href=\"https://colab.research.google.com/github/RaiShra1/Computer-Vision-and-Image-Processing/blob/main/2D_Image_Transformation.ipynb\" target=\"_parent\"><img src=\"https://colab.research.google.com/assets/colab-badge.svg\" alt=\"Open In Colab\"/></a>"
      ]
    },
    {
      "cell_type": "code",
      "metadata": {
        "id": "3AMJIhYWi3ce"
      },
      "source": [
        "import numpy as np\n",
        "import cv2\n",
        "import matplotlib.pyplot as plt\n",
        "from PIL import Image, ImageDraw\n",
        "from scipy import signal\n",
        "from scipy.spatial import distance\n",
        "import math"
      ],
      "execution_count": 1,
      "outputs": []
    },
    {
      "cell_type": "code",
      "metadata": {
        "colab": {
          "base_uri": "https://localhost:8080/",
          "height": 281
        },
        "id": "o5x74i6osURf",
        "outputId": "62e9ef29-8ec0-4171-fed3-f804cec594e6"
      },
      "source": [
        "# Create new Image of size 300x300\n",
        "img = Image.new('L', (300,300), 0)\n",
        "\n",
        "draw = ImageDraw.Draw(img)\n",
        "\n",
        "draw.polygon([(100,135),(150, 100), (180, 185), (115, 175)], outline=1, fill =1)\n",
        "\n",
        "plt.imshow(img, cmap='gray')\n",
        "plt.title(\"Irregular Quadrilateral\")\n",
        "plt.show()"
      ],
      "execution_count": 31,
      "outputs": [
        {
          "output_type": "display_data",
          "data": {
            "image/png": "[encoded data removed]",
            "text/plain": [
              "<Figure size 432x288 with 1 Axes>"
            ]
          },
          "metadata": {
            "tags": [],
            "needs_background": "light"
          }
        }
      ]
    },
    {
      "cell_type": "code",
      "metadata": {
        "colab": {
          "base_uri": "https://localhost:8080/",
          "height": 281
        },
        "id": "Bp1g1n6NtiI9",
        "outputId": "cbf5972d-83cc-45dd-ee3a-ec2135d9d14f"
      },
      "source": [
        "# translate the image by 30,100\n",
        "\n",
        "translation_Matrix =np.float32([[1, 0, 30], [0, 1, 100]])\n",
        "\n",
        "translated_img = cv2.warpAffine(np.array(img), translation_Matrix, (300,300))\n",
        "\n",
        "plt.imshow(translated_img, cmap='gray')\n",
        "plt.title(\"Translated Image\")\n",
        "plt.show()\n"
      ],
      "execution_count": 32,
      "outputs": [
        {
          "output_type": "display_data",
          "data": {
            "image/png": "[encoded data removed]",
            "text/plain": [
              "<Figure size 432x288 with 1 Axes>"
            ]
          },
          "metadata": {
            "tags": [],
            "needs_background": "light"
          }
        }
      ]
    },
    {
      "cell_type": "code",
      "metadata": {
        "colab": {
          "base_uri": "https://localhost:8080/",
          "height": 281
        },
        "id": "mowF0TYuvEkk",
        "outputId": "bf7a93a4-c3d9-426e-fb0a-83e1e4efebfa"
      },
      "source": [
        "#rotate the image by 45 degrees\n",
        "rotation_matrix = cv2.getRotationMatrix2D((150,150), 45, 1)\n",
        "rotated_img= cv2.warpAffine(translated_img,rotation_matrix,(300,300))\n",
        "\n",
        "plt.imshow(rotated_img, cmap='gray')\n",
        "plt.title(\"Rotated Image\")\n",
        "plt.show()"
      ],
      "execution_count": 33,
      "outputs": [
        {
          "output_type": "display_data",
          "data": {
            "image/png": "[encoded data removed]",
            "text/plain": [
              "<Figure size 432x288 with 1 Axes>"
            ]
          },
          "metadata": {
            "tags": [],
            "needs_background": "light"
          }
        }
      ]
    },
    {
      "cell_type": "code",
      "metadata": {
        "id": "yX-X_gomxDAN"
      },
      "source": [
        "# Define function to find angles of corners using Euclidean distances\n",
        "def getAngles(points):\n",
        "    # Find Euclidean distances between all points\n",
        "    euclidean_dist = distance.cdist(points, points, 'euclidean')\n",
        "    print('Euclidean Distances between Corner Points', euclidean_dist)\n",
        "    #Init  \n",
        "    angles = np.empty((0,1), dtype='float32')\n",
        "    # For current corner\n",
        "    for i in range(points.shape[0]):\n",
        "        # Reset max angle\n",
        "        angle = 0\n",
        "        # Find index in Euclidean matrix for all other corners\n",
        "        corners = np.nonzero(euclidean_dist[i,:])\n",
        "        \n",
        "        # For combinations of 2 other corner points\n",
        "        for j in range(points.shape[0]-1):\n",
        "            # Order for other 2 point combinations - [1,2], [1,3], [2,3]\n",
        "            if j == points.shape[0] - 2:\n",
        "                k = 1\n",
        "                m = j\n",
        "            else:\n",
        "                k = 0\n",
        "                m = j+1\n",
        "            \n",
        "            # Find line 1 between current corner and other corner 1 \n",
        "            l1 = euclidean_dist[i,corners[0][k]]\n",
        "            # Find line 2 between current corner and other corner 2 \n",
        "            l2 = euclidean_dist[i,corners[0][m]]\n",
        "            # Find line 3 between other corner 1 and other corner 2 \n",
        "            l3 = euclidean_dist[corners[0][k], corners[0][m]]\n",
        "            # Use Law of Cosines to find angle of current corner\n",
        "            tmp_angle = np.arccos((l3**2 - l1**2 - l2**2) / (-2 * l1 * l2))\n",
        "            \n",
        "            # Use largest angle for current corner from combinations of other corners \n",
        "            if tmp_angle > angle:\n",
        "                angle = tmp_angle\n",
        "                \n",
        "            print(i, j, 'Corners:', corners)\n",
        "            print('Point1', corners[0][k], 'Point2', corners[0][m],\n",
        "                  'Dist 1:', l1, 'Dist2:', l2, 'Angle:', tmp_angle)\n",
        "    \n",
        "        # Add final angle for current corner to final angle array\n",
        "        angles = np.concatenate((angles,[[angle]]), axis=0)\n",
        "    return angles"
      ],
      "execution_count": 35,
      "outputs": []
    },
    {
      "cell_type": "code",
      "metadata": {
        "id": "uShY_9q6cjHr"
      },
      "source": [
        "def getCornerCoordinates(img):\n",
        "    # Initialize Matrix for max values at each corner to assign single point\n",
        "    corners = np.empty((0,2), dtype = 'uint16')\n",
        "    # For each corner:\n",
        "    for i in range(4):\n",
        "        # Find the max pixel value coordinate in the entire image\n",
        "        max_ind = np.unravel_index(np.argmax(img, axis=None), img.shape)\n",
        "        # Store coordinate in corners matrix\n",
        "        corners = np.concatenate((corners, [[max_ind[0], max_ind[1]]]), axis=0)\n",
        "        # Assign intensities for that cluster (pixels around current max) to 0 \n",
        "        img[max_ind[0]-5:max_ind[0]+5, max_ind[1]-5:max_ind[1]+5] = 0\n",
        "        # Repeat for new max pixel intensity coordinate\n",
        "    return corners"
      ],
      "execution_count": 9,
      "outputs": []
    },
    {
      "cell_type": "code",
      "metadata": {
        "id": "l8GiEihdc26o"
      },
      "source": [
        "# Function to find detect corners and assign descriptors to each point\n",
        "def cornerDetector(img, threshold):\n",
        "\n",
        "    h = img.shape[0]\n",
        "    w = img.shape[1]\n",
        "    # Determine convolution kernels for x and y direction\n",
        "    kern_x = np.array([[-1, 0, 1], [-2, 0, 2], [-1, 0, 1]])\n",
        "    kern_y = np.array([[1, 2, 1], [0, 0, 0], [-1, -2, -1]])\n",
        "    \n",
        "    # Convolve to get x and y image gradients\n",
        "    I_x = signal.convolve2d(img, kern_x, mode='same')\n",
        "    I_y = signal.convolve2d(img, kern_y, mode='same')\n",
        "    \n",
        "    # Calculate Ix^2, Iy^2, and Ixy\n",
        "    I_xx = I_x**2\n",
        "    I_yy = I_y**2\n",
        "    I_xy = I_x * I_y\n",
        "    \n",
        "    k = 0.05\n",
        "    # If section size = 3x3, offset = 3/2 = 1\n",
        "    offset = 1\n",
        "    # Initialize matrix for response at each coordinate\n",
        "    h_r = np.empty((0,3), dtype='uint16')\n",
        "    \n",
        "    for y in range(offset, h - offset):\n",
        "        for x in range(offset, w - offset):\n",
        "            # Find sum of Ix^2, Iy^2, and Ixy at each sectionin each image \n",
        "            S_xx = np.sum(I_xx[y - offset:y + 1 + offset,\\\n",
        "                               x - offset:x + 1 + offset])\n",
        "            S_yy = np.sum(I_yy[y - offset:y + 1 + offset,\\\n",
        "                               x - offset:x + 1 + offset])\n",
        "            S_xy = np.sum(I_xy[y - offset:y + 1 + offset,\\\n",
        "                               x - offset:x + 1 + offset])\n",
        "            \n",
        "            # determinant\n",
        "            det = (S_xx * S_yy) - (S_xy**2)\n",
        "            # Trace\n",
        "            trace = S_xx + S_yy\n",
        "            # Response\n",
        "            r = det - k * (trace**2)\n",
        "            # Combine with current image coordinate\n",
        "            resp = [[x, y, r]]\n",
        "            # Add to response matrix\n",
        "            h_r = np.concatenate((h_r, resp), axis=0)\n",
        "              \n",
        "    #Initialize matrix to view corners\n",
        "    img_copy = np.zeros((h,w))\n",
        "    img_corners = np.zeros((h,w))\n",
        "    \n",
        "    # For response in response matrix\n",
        "    for i in range(h_r.shape[0]):\n",
        "        x, y, r = h_r[i,0].astype('uint16'), h_r[i,1].astype('uint16'), h_r[i,2]\n",
        "        # If response is larger than threshold, it is probably a corner\n",
        "        if r > threshold:\n",
        "            img_corners[y,x] = 1\n",
        "            img_copy[y,x] = r / np.amax(h_r[:,2])\n",
        "\n",
        "    \n",
        "    # Find single coordinate for each corner\n",
        "    corners = getCornerCoordinates(img_copy)\n",
        "    # Find angles for each corner    \n",
        "    angles = getAngles(corners)\n",
        "\n",
        "    # print(corners, angles)\n",
        "    # print(angles)\n",
        "        \n",
        "    # Add angle to each image corner coordinate\n",
        "    corner_descript = np.concatenate((corners, angles), axis=1)\n",
        "    print('Corner Points and Angle Descriptor')\n",
        "    print(corner_descript)\n",
        "    \n",
        "    #     # Plot Gradients, Image, and Corners\n",
        "    #     plot([I_x, I_y, I_xx, I_yy, img, img_corners],\\\n",
        "    #          cmap='gray', subplot_size=(3,2), figsize=(20,20),\n",
        "    #          title=['Image Gradient Ix',\n",
        "    #                 'Image Gradient Iy',\n",
        "    #                 'Image Gradient Ixx',\n",
        "    #                 'Image Gradient Iyy',\n",
        "    #                 'Image',\n",
        "    #                 'Image Corners'])\n",
        "    # Plot original, translated and rotated images\n",
        "    plt.figure(figsize=(10,10))\n",
        "    plt.subplot(1,2,1)\n",
        "    plt.imshow(img, cmap ='gray')\n",
        "    plt.title(\"Image\")\n",
        "    plt.subplot(1,2,2)\n",
        "    plt.imshow(img_corners, cmap ='gray')\n",
        "    plt.title('Image Corners')\n",
        "          \n",
        "        \n",
        "    return corner_descript"
      ],
      "execution_count": 40,
      "outputs": []
    },
    {
      "cell_type": "code",
      "metadata": {
        "id": "8dO6eFvZfOnf"
      },
      "source": [
        "#Match Corners found\n",
        "def matchFeatures(corners1, corners2):\n",
        "    # Initialize location arrays for sorted image 1 and 2 matches\n",
        "    loc1 = np.zeros((corners1.shape[0], 2))\n",
        "    loc2 = np.zeros((corners1.shape[0], 2))\n",
        "    # For each corner in image 1\n",
        "    for i in range(corners1.shape[0]):\n",
        "        # Initialize high initial angle error\n",
        "        angle_error = 10\n",
        "        # Compare to each corner in image 2\n",
        "        for j in range(corners2.shape[0]):\n",
        "            # Find error between descriptors (angle) of the two features\n",
        "            tmp_error = np.abs(corners1[i,2] - corners2[j,2])\n",
        "            # If error is less than previous error\n",
        "            if tmp_error < angle_error:\n",
        "                # Current coordinates match \n",
        "                angle_error = tmp_error\n",
        "                # Assign current corner coordinates for image 1\n",
        "                loc1[i,:] = corners1[i, 0:2]\n",
        "                # Assign current corner coordinates for image 2\n",
        "                loc2[i,:] = corners2[j, 0:2]\n",
        "\n",
        "        print('Corner Location Matches Check:')\n",
        "        for j in range(loc1.shape[0]): print(loc1[j,:], loc2[j,:])\n",
        "    return loc1, loc2"
      ],
      "execution_count": 37,
      "outputs": []
    },
    {
      "cell_type": "code",
      "metadata": {
        "id": "NIqdsfGufdaH"
      },
      "source": [
        "def drawMatches(img1, img2, matches, inliers = None):\n",
        "    # Create a new output image that concatenates the two images together\n",
        "    rows1 = img1.shape[0]\n",
        "    cols1 = img1.shape[1]\n",
        "    rows2 = img2.shape[0]\n",
        "    cols2 = img2.shape[1]\n",
        "    img1 = img1.astype('uint8') * 255\n",
        "    img2 = img2.astype('uint8') * 255\n",
        "    out = np.zeros((max([rows1,rows2]),cols1+cols2,3), dtype='uint8')\n",
        "\n",
        "    # Place the first image to the left\n",
        "    out[:rows1,:cols1,:] = np.dstack([img1, img1, img1])\n",
        "\n",
        "    # Place the next image to the right of it\n",
        "    out[:rows2,cols1:cols1+cols2,:] = np.dstack([img2, img2, img2])\n",
        "\n",
        "    # draw circles, then connect a line between them\n",
        "    for i in range(matches.shape[0]):\n",
        "        \n",
        "        (y1,x1) = matches[i,0:2]\n",
        "        (y2,x2) = matches[i,2:4]\n",
        "        \n",
        "        # Draw circle at both co-ordinates\n",
        "        cv2.circle(out, (int(x1),int(y1)), 4, (255, 0, 0), 1)\n",
        "        cv2.circle(out, (int(x2)+cols1,int(y2)), 4, (255, 0, 0), 1)\n",
        "\n",
        "        # Draw line between the two points\n",
        "        if inliers is not None and inlier:\n",
        "            cv2.line(out, (int(x1),int(y1)), (int(x2)+cols1,int(y2)),\\\n",
        "                     (0, 255, 0), 1)\n",
        "        elif inliers is not None:\n",
        "            cv2.line(out, (int(x1),int(y1)), (int(x2)+cols1,int(y2)),\\\n",
        "                     (0, 0, 255), 1)\n",
        "\n",
        "        if inliers is None:\n",
        "            cv2.line(out, (int(x1),int(y1)), (int(x2)+cols1,int(y2)),\\\n",
        "                     (255, 0, 0), 1)\n",
        "\n",
        "    return out"
      ],
      "execution_count": 38,
      "outputs": []
    },
    {
      "cell_type": "code",
      "metadata": {
        "colab": {
          "base_uri": "https://localhost:8080/",
          "height": 879
        },
        "id": "aDBk4HWzfs73",
        "outputId": "19c7fa71-dbd0-4c1f-bc7d-e0b74d038c9d"
      },
      "source": [
        "corners_original = cornerDetector(np.array(img), 600)"
      ],
      "execution_count": 41,
      "outputs": [
        {
          "output_type": "stream",
          "text": [
            "Euclidean Distances between Corner Points [[ 0.         87.92041856 60.46486583 81.85963596]\n",
            " [87.92041856  0.         92.96235797 64.62971453]\n",
            " [60.46486583 92.96235797  0.         42.72001873]\n",
            " [81.85963596 64.62971453 42.72001873  0.        ]]\n",
            "0 0 Corners: (array([1, 2, 3]),)\n",
            "Point1 1 Point2 2 Dist 1: 87.92041856133307 Dist2: 60.4648658313239 Angle: 1.309757719487787\n",
            "0 1 Corners: (array([1, 2, 3]),)\n",
            "Point1 1 Point2 3 Dist 1: 87.92041856133307 Dist2: 81.85963596303125 Angle: 0.7779312163030114\n",
            "0 2 Corners: (array([1, 2, 3]),)\n",
            "Point1 2 Point2 3 Dist 1: 60.4648658313239 Dist2: 81.85963596303125 Angle: 0.5318265031847753\n",
            "1 0 Corners: (array([0, 2, 3]),)\n",
            "Point1 0 Point2 2 Dist 1: 87.92041856133307 Dist2: 92.9623579735368 Angle: 0.6794796998887241\n",
            "1 1 Corners: (array([0, 2, 3]),)\n",
            "Point1 0 Point2 3 Dist 1: 87.92041856133307 Dist2: 64.6297145282261 Angle: 1.094949401720165\n",
            "1 2 Corners: (array([0, 2, 3]),)\n",
            "Point1 2 Point2 3 Dist 1: 92.9623579735368 Dist2: 64.6297145282261 Angle: 0.415469701831441\n",
            "2 0 Corners: (array([0, 1, 3]),)\n",
            "Point1 0 Point2 1 Dist 1: 60.4648658313239 Dist2: 92.9623579735368 Angle: 1.1523552342132821\n",
            "2 1 Corners: (array([0, 1, 3]),)\n",
            "Point1 0 Point2 3 Dist 1: 60.4648658313239 Dist2: 42.720018726587654 Angle: 1.8092023146170018\n",
            "2 2 Corners: (array([0, 1, 3]),)\n",
            "Point1 1 Point2 3 Dist 1: 92.9623579735368 Dist2: 42.720018726587654 Angle: 0.6568470804037199\n",
            "3 0 Corners: (array([0, 1, 2]),)\n",
            "Point1 0 Point2 1 Dist 1: 81.85963596303125 Dist2: 64.6297145282261 Angle: 1.2687120355666166\n",
            "3 1 Corners: (array([0, 1, 2]),)\n",
            "Point1 0 Point2 2 Dist 1: 81.85963596303125 Dist2: 42.720018726587654 Angle: 0.8005638357880162\n",
            "3 2 Corners: (array([0, 1, 2]),)\n",
            "Point1 1 Point2 2 Dist 1: 64.6297145282261 Dist2: 42.720018726587654 Angle: 2.0692758713546326\n",
            "Corner Points and Angle Descriptor\n",
            "[[101.         150.           1.30975772]\n",
            " [184.         179.           1.0949494 ]\n",
            " [135.         100.           1.80920231]\n",
            " [175.         115.           2.06927587]]\n"
          ],
          "name": "stdout"
        },
        {
          "output_type": "display_data",
          "data": {
            "image/png": "[encoded data removed]",
            "text/plain": [
              "<Figure size 720x720 with 2 Axes>"
            ]
          },
          "metadata": {
            "tags": [],
            "needs_background": "light"
          }
        }
      ]
    },
    {
      "cell_type": "code",
      "metadata": {
        "colab": {
          "base_uri": "https://localhost:8080/",
          "height": 879
        },
        "id": "KpCsjJDVf5h3",
        "outputId": "bc4c4981-d406-4754-a59c-f9de5b9d48b6"
      },
      "source": [
        "corners_rotated = cornerDetector(np.array(rotated_img), 600)"
      ],
      "execution_count": 42,
      "outputs": [
        {
          "output_type": "stream",
          "text": [
            "Euclidean Distances between Corner Points [[ 0.         88.5663593  93.62157871 65.        ]\n",
            " [88.5663593   0.         61.         81.93289938]\n",
            " [93.62157871 61.          0.         42.54409477]\n",
            " [65.         81.93289938 42.54409477  0.        ]]\n",
            "0 0 Corners: (array([1, 2, 3]),)\n",
            "Point1 1 Point2 2 Dist 1: 88.56635930193812 Dist2: 93.62157870918435 Angle: 0.6806551353033823\n",
            "0 1 Corners: (array([1, 2, 3]),)\n",
            "Point1 1 Point2 3 Dist 1: 88.56635930193812 Dist2: 65.0 Angle: 1.0869494452130226\n",
            "0 2 Corners: (array([1, 2, 3]),)\n",
            "Point1 2 Point2 3 Dist 1: 93.62157870918435 Dist2: 65.0 Angle: 0.4062943099096404\n",
            "1 0 Corners: (array([0, 2, 3]),)\n",
            "Point1 0 Point2 2 Dist 1: 88.56635930193812 Dist2: 61.0 Angle: 1.3086677647766487\n",
            "1 1 Corners: (array([0, 2, 3]),)\n",
            "Point1 0 Point2 3 Dist 1: 88.56635930193812 Dist2: 81.93289937503738 Angle: 0.7785769867912514\n",
            "1 2 Corners: (array([0, 2, 3]),)\n",
            "Point1 2 Point2 3 Dist 1: 61.0 Dist2: 81.93289937503738 Angle: 0.5300907779853972\n",
            "2 0 Corners: (array([0, 1, 3]),)\n",
            "Point1 0 Point2 1 Dist 1: 93.62157870918435 Dist2: 61.0 Angle: 1.1522697535097624\n",
            "2 1 Corners: (array([0, 1, 3]),)\n",
            "Point1 0 Point2 3 Dist 1: 93.62157870918435 Dist2: 42.5440947723653 Angle: 0.6482713462735085\n",
            "2 2 Corners: (array([0, 1, 3]),)\n",
            "Point1 1 Point2 3 Dist 1: 61.0 Dist2: 42.5440947723653 Angle: 1.800541099783271\n",
            "3 0 Corners: (array([0, 1, 2]),)\n",
            "Point1 0 Point2 1 Dist 1: 65.0 Dist2: 81.93289937503738 Angle: 1.2760662215855192\n",
            "3 1 Corners: (array([0, 1, 2]),)\n",
            "Point1 0 Point2 2 Dist 1: 65.0 Dist2: 42.5440947723653 Angle: 2.087026997406644\n",
            "3 2 Corners: (array([0, 1, 2]),)\n",
            "Point1 1 Point2 2 Dist 1: 81.93289937503738 Dist2: 42.5440947723653 Angle: 0.8109607758211251\n",
            "Corner Points and Angle Descriptor\n",
            "[[203.         287.           1.08694945]\n",
            " [165.         207.           1.30866776]\n",
            " [225.         196.           1.8005411 ]\n",
            " [242.         235.           2.087027  ]]\n"
          ],
          "name": "stdout"
        },
        {
          "output_type": "display_data",
          "data": {
            "image/png": "[encoded data removed]",
            "text/plain": [
              "<Figure size 720x720 with 2 Axes>"
            ]
          },
          "metadata": {
            "tags": [],
            "needs_background": "light"
          }
        }
      ]
    },
    {
      "cell_type": "code",
      "metadata": {
        "colab": {
          "base_uri": "https://localhost:8080/",
          "height": 683
        },
        "id": "1g2beoTJluE2",
        "outputId": "43ab961e-266f-4dd0-e5b8-c4390c38a350"
      },
      "source": [
        "#match features\n",
        "matches1, matches2 = matchFeatures(corners_original,corners_rotated)\n",
        "matches = np.concatenate((matches1,matches2), axis =1)\n",
        "\n",
        "matched_img = drawMatches(np.array(img), np.array(rotated_img), matches)\n",
        "plt.figure(figsize=(10,10))\n",
        "plt.imshow(matched_img, cmap='gray')\n",
        "plt.title(\"Feature Matches\")\n",
        "plt.show()"
      ],
      "execution_count": 54,
      "outputs": [
        {
          "output_type": "stream",
          "text": [
            "Corner Location Matches Check:\n",
            "[101. 150.] [165. 207.]\n",
            "[0. 0.] [0. 0.]\n",
            "[0. 0.] [0. 0.]\n",
            "[0. 0.] [0. 0.]\n",
            "Corner Location Matches Check:\n",
            "[101. 150.] [165. 207.]\n",
            "[184. 179.] [203. 287.]\n",
            "[0. 0.] [0. 0.]\n",
            "[0. 0.] [0. 0.]\n",
            "Corner Location Matches Check:\n",
            "[101. 150.] [165. 207.]\n",
            "[184. 179.] [203. 287.]\n",
            "[135. 100.] [225. 196.]\n",
            "[0. 0.] [0. 0.]\n",
            "Corner Location Matches Check:\n",
            "[101. 150.] [165. 207.]\n",
            "[184. 179.] [203. 287.]\n",
            "[135. 100.] [225. 196.]\n",
            "[175. 115.] [242. 235.]\n"
          ],
          "name": "stdout"
        },
        {
          "output_type": "display_data",
          "data": {
            "image/png": "[encoded data removed]",
            "text/plain": [
              "<Figure size 720x720 with 1 Axes>"
            ]
          },
          "metadata": {
            "tags": [],
            "needs_background": "light"
          }
        }
      ]
    },
    {
      "cell_type": "code",
      "metadata": {
        "id": "9FSjk8gbmsEV"
      },
      "source": [
        "def LeastSqaures(match_points, num_points):\n",
        "    loc1, loc2 = match_points[:, 0:2], match_points[:, 2:4]\n",
        "    # Initialize matrices for A and B\n",
        "    A = np.empty((0,4)); B = np.empty((0,1))\n",
        "    # Construct Matrix A and B\n",
        "    for i in range(num_points):\n",
        "        A_tmp = np.array([[loc1[i,0],  loc1[i,1], 1, 0],\n",
        "                          [loc1[i,1], -loc1[i,0], 0, 1]])\n",
        "        B_tmp = np.array([[loc2[i,0]], \n",
        "                          [loc2[i,1]]])\n",
        "        # Add to final A and B matrix \n",
        "        A = np.concatenate((A, A_tmp), axis=0)\n",
        "        B = np.concatenate((B, B_tmp), axis=0)\n",
        "\n",
        "    print('Matrix A'); print(A); print('')\n",
        "    print('Matrix B'); print(B); print('')\n",
        "    return A, B"
      ],
      "execution_count": 59,
      "outputs": []
    },
    {
      "cell_type": "code",
      "metadata": {
        "colab": {
          "base_uri": "https://localhost:8080/"
        },
        "id": "tOhH-ZrNnhPV",
        "outputId": "9aa1e974-f66e-49d5-aff0-0f78d9ee4a72"
      },
      "source": [
        "A,B = LeastSqaures(matches,2)"
      ],
      "execution_count": 60,
      "outputs": [
        {
          "output_type": "stream",
          "text": [
            "Matrix A\n",
            "[[ 101.  150.    1.    0.]\n",
            " [ 150. -101.    0.    1.]\n",
            " [ 184.  179.    1.    0.]\n",
            " [ 179. -184.    0.    1.]]\n",
            "\n",
            "Matrix B\n",
            "[[165.]\n",
            " [207.]\n",
            " [203.]\n",
            " [287.]]\n",
            "\n"
          ],
          "name": "stdout"
        }
      ]
    },
    {
      "cell_type": "code",
      "metadata": {
        "colab": {
          "base_uri": "https://localhost:8080/"
        },
        "id": "TtlliotaoXUm",
        "outputId": "9fc22835-a3eb-4fe5-e24d-9e4021908134"
      },
      "source": [
        "#Solve with Linear Least Squares Optimization\n",
        "(x, residuals, rank, s) = np.linalg.lstsq(A,B,None)\n",
        "\n",
        "# Print Results from Linear Least Squares Optimization\n",
        "print('Paramater Values:'); print(x); print('')\n",
        "\n",
        "# Solve for Theta\n",
        "angle1 = np.degrees((np.arccos(x[0])))\n",
        "angle2 = np.degrees((np.arcsin(x[1])))\n",
        "\n",
        "print('angle =', angle1, 'or ',angle2)\n",
        "\n",
        "print('')\n",
        "\n",
        "\n",
        "ty = x[2]\n",
        "tx = x[3]\n",
        "print('tx =', tx)\n",
        "print('ty =', ty)"
      ],
      "execution_count": 61,
      "outputs": [
        {
          "output_type": "stream",
          "text": [
            "Paramater Values:\n",
            "[[  0.70815006]\n",
            " [ -0.7164295 ]\n",
            " [200.94126779]\n",
            " [ 28.41811125]]\n",
            "\n",
            "angle = [44.91540185] or  [-45.76047432]\n",
            "\n",
            "tx = [28.41811125]\n",
            "ty = [200.94126779]\n"
          ],
          "name": "stdout"
        }
      ]
    },
    {
      "cell_type": "code",
      "metadata": {
        "id": "nLrplEHJprR0"
      },
      "source": [
        ""
      ],
      "execution_count": null,
      "outputs": []
    }
  ]
}